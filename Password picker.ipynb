{
 "cells": [
  {
   "cell_type": "markdown",
   "id": "315267ef",
   "metadata": {},
   "source": [
    "# Activity1: Password picker using python\n"
   ]
  },
  {
   "cell_type": "code",
   "execution_count": 1,
   "id": "e0fb4c1e",
   "metadata": {},
   "outputs": [],
   "source": [
    "import random"
   ]
  },
  {
   "cell_type": "code",
   "execution_count": 2,
   "id": "5b93f049",
   "metadata": {},
   "outputs": [],
   "source": [
    "adjective = ['adorable','adventurous','alive','better','bewildered','black','calm','careful','cute','dangerous','dead','difficult','eager','easy','elegant','funny','friendly','fine','good','gleaming','graceful','hungry','homely','hurt']"
   ]
  },
  {
   "cell_type": "code",
   "execution_count": 3,
   "id": "61dbc6f6",
   "metadata": {},
   "outputs": [],
   "source": [
    "noun = ['man','mountain','state','ocean','country','bird','light','sun','love','happiness','pride','year','milk','rice','snow','rain']"
   ]
  },
  {
   "cell_type": "code",
   "execution_count": 4,
   "id": "a8253ef4",
   "metadata": {},
   "outputs": [],
   "source": [
    "pun = ['?','!']"
   ]
  },
  {
   "cell_type": "code",
   "execution_count": 7,
   "id": "622bf176",
   "metadata": {},
   "outputs": [
    {
     "name": "stdout",
     "output_type": "stream",
     "text": [
      "better state 686 ?\n"
     ]
    }
   ],
   "source": [
    "print(random.choice(adjective),random.choice(noun),random.randrange(0,1000),random.choice(pun))"
   ]
  },
  {
   "cell_type": "code",
   "execution_count": null,
   "id": "70e7aff4",
   "metadata": {},
   "outputs": [],
   "source": []
  }
 ],
 "metadata": {
  "kernelspec": {
   "display_name": "Python 3",
   "language": "python",
   "name": "python3"
  },
  "language_info": {
   "codemirror_mode": {
    "name": "ipython",
    "version": 3
   },
   "file_extension": ".py",
   "mimetype": "text/x-python",
   "name": "python",
   "nbconvert_exporter": "python",
   "pygments_lexer": "ipython3",
   "version": "3.8.8"
  }
 },
 "nbformat": 4,
 "nbformat_minor": 5
}
